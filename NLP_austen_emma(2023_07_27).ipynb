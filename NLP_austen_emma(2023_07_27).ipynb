{
 "cells": [
  {
   "cell_type": "markdown",
   "metadata": {
    "id": "vTs_EuxaYgrE",
    "school_cell_uuid": "cefaae3010444fccafdfa84a355ca511"
   },
   "source": [
    "# NLTK 자연어 처리 패키지"
   ]
  },
  {
   "cell_type": "markdown",
   "metadata": {
    "id": "fUQm_HpIYgrG",
    "school_cell_uuid": "3c24a3d6746e41a4b6cf785a611ac4bf"
   },
   "source": [
    "NLTK(Natural Language Toolkit) 패키지는 교육용으로 개발된 자연어 처리 및 문서 분석용 파이썬 패키지이다.  \n",
    "다양한 기능 및 예제를 가지고 있으며 실무 및 연구에서도 많이 사용된다."
   ]
  },
  {
   "cell_type": "markdown",
   "metadata": {
    "id": "9tkk0ujzYgrG",
    "school_cell_uuid": "a18f99f386ed4abc87eb79a0b75f4714"
   },
   "source": [
    "NLTK 패키지가 제공하는 주요 기능은 다음과 같다.\n",
    "\n",
    "* Corpus(말뭉치)\n",
    "* Tokenizing(토큰 생성)\n",
    "* Morphological Analysis(형태소 분석)\n",
    "* Attachment of POS(품사 태깅)"
   ]
  },
  {
   "cell_type": "markdown",
   "metadata": {
    "id": "FK-QuPVUYgrG",
    "school_cell_uuid": "1ef7eefc1c444359b768dad26942a68f"
   },
   "source": [
    "## Corpus"
   ]
  },
  {
   "cell_type": "markdown",
   "metadata": {
    "id": "apiLr7g2YgrG",
    "school_cell_uuid": "e9b2856185ce4973b862c5ae9a15bea9"
   },
   "source": [
    "말뭉치(corpus)는 자연어 분석 작업을 위해 만든 샘플 문서 집합을 말한다.  \n",
    "단순히 소설, 신문 등의 문서를 모아놓은 것도 있지만 품사. 형태소, 등의 보조적 의미를 추가하고  \n",
    "쉬운 분석을 위해 구조적인 형태로 정리해 놓은 것을 포함한다.   \n",
    "NLTK 패키지의 `corpus` 서브패키지에서는 다양한 연구용 말뭉치를 제공한다.   \n",
    "이 목록은 전체 corpus의 일부일 뿐이다. 말뭉치 자료는 설치시에 제공되지 않고 `download` 명령으로 사용자가 다운로드 받아야 한다.\n",
    "`nltk.download(\"book\")` 명령을 실행하면 NLTK 패키지 사용자 설명서에서 요구하는 대부분의 말뭉치를 다운로드 받아준다."
   ]
  },
  {
   "cell_type": "code",
   "execution_count": 1,
   "metadata": {
    "colab": {
     "base_uri": "https://localhost:8080/"
    },
    "id": "zemRSi6BYgrH",
    "outputId": "60fc6e9b-b00f-4daa-f9eb-20a8f50a05ca",
    "school_cell_uuid": "1b400429bc3c45299985cfec98f9ebc1",
    "scrolled": false
   },
   "outputs": [
    {
     "name": "stdout",
     "output_type": "stream",
     "text": [
      "*** Introductory Examples for the NLTK Book ***\n",
      "Loading text1, ..., text9 and sent1, ..., sent9\n",
      "Type the name of the text or sentence to view it.\n",
      "Type: 'texts()' or 'sents()' to list the materials.\n",
      "text1: Moby Dick by Herman Melville 1851\n",
      "text2: Sense and Sensibility by Jane Austen 1811\n",
      "text3: The Book of Genesis\n",
      "text4: Inaugural Address Corpus\n",
      "text5: Chat Corpus\n",
      "text6: Monty Python and the Holy Grail\n",
      "text7: Wall Street Journal\n",
      "text8: Personals Corpus\n",
      "text9: The Man Who Was Thursday by G . K . Chesterton 1908\n"
     ]
    }
   ],
   "source": [
    "import nltk\n",
    "nltk.download(\"book\", quiet=True)\n",
    "from nltk.book import *"
   ]
  },
  {
   "cell_type": "markdown",
   "metadata": {
    "id": "qpUmzoITYgrH",
    "school_cell_uuid": "81de27fe49fc4d6eb1a61e7c75556e5f"
   },
   "source": [
    "예를 들어 저작권이 말소된 문학작품을 포함하는 gutenberg 말뭉치에는 다음과 같은 작품이 샘플로 포함되어 있다."
   ]
  },
  {
   "cell_type": "code",
   "execution_count": 2,
   "metadata": {
    "colab": {
     "base_uri": "https://localhost:8080/"
    },
    "id": "IvugEpBDYgrI",
    "outputId": "e738588c-74a8-4961-d362-5720c856d270",
    "school_cell_uuid": "ad3bcfd416fc42d89d249d9785bf0856"
   },
   "outputs": [
    {
     "data": {
      "text/plain": [
       "['austen-emma.txt',\n",
       " 'austen-persuasion.txt',\n",
       " 'austen-sense.txt',\n",
       " 'bible-kjv.txt',\n",
       " 'blake-poems.txt',\n",
       " 'bryant-stories.txt',\n",
       " 'burgess-busterbrown.txt',\n",
       " 'carroll-alice.txt',\n",
       " 'chesterton-ball.txt',\n",
       " 'chesterton-brown.txt',\n",
       " 'chesterton-thursday.txt',\n",
       " 'edgeworth-parents.txt',\n",
       " 'melville-moby_dick.txt',\n",
       " 'milton-paradise.txt',\n",
       " 'shakespeare-caesar.txt',\n",
       " 'shakespeare-hamlet.txt',\n",
       " 'shakespeare-macbeth.txt',\n",
       " 'whitman-leaves.txt']"
      ]
     },
     "execution_count": 2,
     "metadata": {},
     "output_type": "execute_result"
    }
   ],
   "source": [
    "nltk.corpus.gutenberg.fileids()"
   ]
  },
  {
   "cell_type": "markdown",
   "metadata": {
    "id": "X6qIwGALYgrI",
    "school_cell_uuid": "112a64e93d6f48588f52badd9a15e312"
   },
   "source": [
    "이 중 제인 오스틴의 엠마 문서를 살펴보면 다음과 같이 원문 형태 그대로를 포함하고 있다."
   ]
  },
  {
   "cell_type": "code",
   "execution_count": 3,
   "metadata": {
    "colab": {
     "base_uri": "https://localhost:8080/"
    },
    "id": "EzxEWaOeYgrI",
    "outputId": "e11f5da3-b45d-4136-8417-0753f02502df",
    "school_cell_uuid": "aef015a5f388443694f902e4fdc6da1f"
   },
   "outputs": [
    {
     "name": "stdout",
     "output_type": "stream",
     "text": [
      "[Emma by Jane Austen 1816]\n",
      "\n",
      "VOLUME I\n",
      "\n",
      "CHAPTER I\n",
      "\n",
      "\n",
      "Emma Woodhouse, handsome, clever, and rich, with a comfortable home\n",
      "and happy disposition, seemed to unite some of the best blessings\n",
      "of existence; and had lived nearly twenty-one years in the world\n",
      "with very little to distress or vex her.\n",
      "\n",
      "She was the youngest of the two daughters of a most affectionate,\n",
      "indulgent father; and had, in consequence of her sister's marriage,\n",
      "been mistress of his house from a very early period.  Her mother\n",
      "had died t\n",
      "==================================================\n",
      "\n",
      "have no taste for finery or parade; and Mrs. Elton, from the\n",
      "particulars detailed by her husband, thought it all extremely shabby,\n",
      "and very inferior to her own.--\"Very little white satin, very few\n",
      "lace veils; a most pitiful business!--Selina would stare when she\n",
      "heard of it.\"--But, in spite of these deficiencies, the wishes,\n",
      "the hopes, the confidence, the predictions of the small band\n",
      "of true friends who witnessed the ceremony, were fully answered\n",
      "in the perfect happiness of the union.\n",
      "\n",
      "\n",
      "FINIS\n",
      "<class 'str'> 887071\n"
     ]
    }
   ],
   "source": [
    "emma_raw = nltk.corpus.gutenberg.raw(\"austen-emma.txt\")\n",
    "#print(emma_raw)\n",
    "print(emma_raw[:500])  #처음 시작되는 부분 500자를 출력\n",
    "print('='*50)\n",
    "print(emma_raw[-500:-1])  #마지막 끝나는 부분 500자를 출력\n",
    "print(type(emma_raw), len(emma_raw))"
   ]
  },
  {
   "cell_type": "markdown",
   "metadata": {
    "id": "-BQwXWNjYgrI",
    "school_cell_uuid": "f129565fb1e443fe937ae2bf85fac634"
   },
   "source": [
    "## Tokenizing"
   ]
  },
  {
   "cell_type": "markdown",
   "metadata": {
    "id": "n0SoiryVYgrI",
    "school_cell_uuid": "f122c3e0b2e7490a872ceecaacb19422"
   },
   "source": [
    "자연어 문서를 분석하기 위해서는 우선 긴 문자열을 분석을 위한 작은 단위로 나누어야 한다.   \n",
    "이 문자열 단위를 토큰(token)이라고 하고 이렇게 문자열을 토큰으로 나누는 작업을 토큰 생성(tokenizing)이라고 한다.   \n",
    "영문의 경우에는 문장, 단어 등을 토큰으로 사용하거나 정규 표현식을 쓸 수 있다."
   ]
  },
  {
   "cell_type": "markdown",
   "metadata": {
    "id": "JVw8bS5OWBep"
   },
   "source": []
  },
  {
   "cell_type": "markdown",
   "metadata": {
    "id": "jhlR-TzZYgrJ",
    "school_cell_uuid": "7682dd806d8744cabc9286d5cebf417a"
   },
   "source": [
    "문자열을 토큰으로 분리하는 함수를 토큰 생성 함수(tokenizer)라고 한다.   \n",
    "토큰 생성 함수는 문자열을 입력받아 토큰 문자열의 리스트를 출력한다."
   ]
  },
  {
   "cell_type": "code",
   "execution_count": 4,
   "metadata": {
    "id": "johQYgrlYgrJ",
    "school_cell_uuid": "5322ce1a0c3a4a7db0906719d5884a86"
   },
   "outputs": [],
   "source": [
    "from nltk.tokenize import sent_tokenize  #문장 토큰"
   ]
  },
  {
   "cell_type": "code",
   "execution_count": 5,
   "metadata": {
    "colab": {
     "base_uri": "https://localhost:8080/"
    },
    "id": "hAAy67WSarD9",
    "outputId": "efa9ac9d-8beb-4074-da80-fa3f69581cec"
   },
   "outputs": [
    {
     "name": "stdout",
     "output_type": "stream",
     "text": [
      "[Emma by Jane Austen 1816]\n",
      "\n",
      "VOLUME I\n",
      "\n",
      "CHAPTER I\n",
      "\n",
      "\n",
      "Emma Woodhouse, handsome, clever, and rich, with a comfortable home\n",
      "and happy disposition, seemed to unite some of the best blessings\n",
      "of existence; and had lived nearly twenty-one years in the world\n",
      "with very little to distress or vex her.\n",
      "\n",
      "She was the youngest of the two daughters of a most affectionate,\n",
      "indulgent father; and had, in consequence of her sister's marriage,\n",
      "been mistress of his house from a very early period.  Her mother\n",
      "had died too long ago for her to have more than an indistinct\n",
      "remembrance of her caresses; and her place had been supplied\n",
      "by an excellent woman as governess, who had fallen little short\n",
      "of a mother in affection.\n",
      "\n",
      "Sixteen years had Miss Taylor been in Mr. Woodhouse's family,\n",
      "less as a governess than a friend, very fond of both daughters,\n",
      "but particularly of Emma.  Between _them_ it was more the intimacy\n",
      "of sisters.  Even before Miss Taylor had ceased to hold the nominal\n",
      "office of governess, the mildness o\n",
      "==================================================\n",
      "[Emma by Jane Austen 1816]\n",
      "\n",
      "VOLUME I\n",
      "\n",
      "CHAPTER I\n",
      "\n",
      "\n",
      "Emma Woodhouse, handsome, clever, and rich, with a comfortable home\n",
      "and happy disposition, seemed to unite some of the best blessings\n",
      "of existence; and had lived nearly twenty-one years in the world\n",
      "with very little to distress or vex her.\n",
      "==================================================\n",
      "She was the youngest of the two daughters of a most affectionate,\n",
      "indulgent father; and had, in consequence of her sister's marriage,\n",
      "been mistress of his house from a very early period.\n",
      "==================================================\n",
      "Her mother\n",
      "had died too long ago for her to have more than an indistinct\n",
      "remembrance of her caresses; and her place had been supplied\n",
      "by an excellent woman as governess, who had fallen little short\n",
      "of a mother in affection.\n"
     ]
    }
   ],
   "source": [
    "print(emma_raw[:1000]) #처음 1000자를 출력\n",
    "print(\"=\"*50)\n",
    "print(sent_tokenize(emma_raw[:1000])[0]) #처음 1000자를 문장 단위로 토큰화한 후, 그 중 첫번째 문장을 출력\n",
    "print(\"=\"*50)\n",
    "print(sent_tokenize(emma_raw[:1000])[1]) #처음 1000자를 문장 단위로 토큰화한 후, 그 중 두번째 문장을 출력\n",
    "print(\"=\"*50)\n",
    "print(sent_tokenize(emma_raw[:1000])[2]) #처음 1000자를 문장 단위로 토큰화한 후, 그 중 세번째 문장을 출력"
   ]
  },
  {
   "cell_type": "code",
   "execution_count": 6,
   "metadata": {
    "colab": {
     "base_uri": "https://localhost:8080/"
    },
    "id": "7AOGG7SmYgrJ",
    "outputId": "95ca13f7-206a-457d-8a9b-4725b02f8016",
    "school_cell_uuid": "1e4375058a99499baa1f109bf0c7a637",
    "scrolled": false
   },
   "outputs": [
    {
     "name": "stdout",
     "output_type": "stream",
     "text": [
      "[Emma by Jane Austen 1816]\n",
      "\n",
      "VOLUME I\n",
      "\n",
      "CHAPTER I\n",
      "\n",
      "\n",
      "Emma Woodhouse, handsome, clever, and rich, with a comfortable home\n",
      "and happy disposition, seemed to unite some of the best blessings\n",
      "of existence; and had lived nearly twenty-one years in the world\n",
      "with very little to distress or vex her.\n",
      "\n",
      "She was t\n",
      "['[', 'Emma', 'by', 'Jane', 'Austen', '1816', ']', 'VOLUME', 'I', 'CHAPTER', 'I']\n",
      "==================================================\n",
      "['Emma', 'Woodhouse', ',', 'handsome', ',', 'clever', ',', 'and', 'rich', ',', 'with', 'a']\n",
      "<class 'list'> 191776\n"
     ]
    }
   ],
   "source": [
    "from nltk.tokenize import word_tokenize #텍스트를 단어 단위로 토큰화\n",
    "print(emma_raw[:300])  # 처음 300자를 출력\n",
    "print(word_tokenize(emma_raw[:50]))  #처음 50자를 단어 단위로 토큰화하여 리스트로 출력\n",
    "print(\"=\"*50)\n",
    "print(word_tokenize(emma_raw[50:100]))  #처음 50번째 문자부터 100번째 문자 직전까지의 텍스트를 단어 단위로 토큰화하여 출력\n",
    "print(type(word_tokenize(emma_raw)), len(word_tokenize(emma_raw)) )"
   ]
  },
  {
   "cell_type": "code",
   "execution_count": 7,
   "metadata": {
    "colab": {
     "base_uri": "https://localhost:8080/"
    },
    "id": "w74tmaINYgrJ",
    "outputId": "de6a5709-4786-4bb8-97b7-64879e68e371",
    "school_cell_uuid": "eebd21a3f9d2455689f8371085e5049b"
   },
   "outputs": [
    {
     "name": "stdout",
     "output_type": "stream",
     "text": [
      "['Emma', 'by', 'Jane', 'Austen', '1816', 'VOLUME', 'I', 'CHAPTER', 'I']\n",
      "['Emma', 'Woodhouse', 'handsome', 'clever', 'and', 'rich', 'with', 'a']\n"
     ]
    }
   ],
   "source": [
    "from nltk.tokenize import RegexpTokenizer  #정규표현식을 활용한 토큰화\n",
    "retokenize = RegexpTokenizer(\"[\\w]+\") #word를 표현하며 알파벳 + 숫자 + _ 중의 한 문자\n",
    "print(retokenize.tokenize(emma_raw[:50])) #처음 50자를 retokenize 객체를 사용하여 토큰화한 결과를 출력\n",
    "print(retokenize.tokenize(emma_raw[50:100])) #50번째 문자부터 100번째 문자 직전까지의 텍스트를 retokenize 객체를 사용하여 토큰화한 결과를 출력"
   ]
  },
  {
   "cell_type": "markdown",
   "metadata": {
    "id": "ThHu6_EvYgrJ",
    "school_cell_uuid": "ec81f06972024f0a9c65e9b88fa2c96e"
   },
   "source": [
    "## Morphological Analysis"
   ]
  },
  {
   "cell_type": "markdown",
   "metadata": {
    "id": "6wuoYolsYgrJ",
    "school_cell_uuid": "0ee8b0e66a694a26a14aec4cf8fc66f2"
   },
   "source": [
    "형태소(morpheme)는 언어학에서 일정한 의미가 있는 가장 작은 말의 단위를 뜻한다.   \n",
    "보통 자연어 처리에서는 토큰으로 형태소를 이용한다. 형태소 분석(morphological analysis)이란 단어로부터  \n",
    "어근, 접두사, 접미사, 품사 등 다양한 언어적 속성을 파악하고 이를 이용하여 형태소를 찾아내거나 처리하는 작업이다.   \n",
    "형태소 분석의 예로는 다음과 같은 작업이 있다.\n",
    "\n",
    "* 어간 추출(stemming)\n",
    "* 원형 복원(lemmatizing)\n",
    "* 품사 부착(Part-Of-Speech tagging)"
   ]
  },
  {
   "cell_type": "markdown",
   "metadata": {
    "id": "nz_6OdxqYgrK",
    "school_cell_uuid": "1749e8ed4ebe46a593d94348b28b49c9"
   },
   "source": [
    " ### 어간 추출과 원형 복원"
   ]
  },
  {
   "cell_type": "markdown",
   "metadata": {
    "id": "UTC-S6q9YgrK",
    "school_cell_uuid": "b79b41a52dcf42918bec997cc2ddd637"
   },
   "source": [
    "어간 추출(stemming)은 변화된 단어의 접미사나 어미를 제거하여 같은 의미를 가지는 형태소의 기본형을 찾는 방법이다.  \n",
    "NLTK는 `PorterStemmer`  `LancasterStemmer` 등을 제공한다.   \n",
    "어간 추출법은 단순히 어미를 제거할 뿐이므로 단어의 원형의 정확히 찾아주지는 않는다."
   ]
  },
  {
   "cell_type": "code",
   "execution_count": 8,
   "metadata": {
    "colab": {
     "base_uri": "https://localhost:8080/"
    },
    "id": "B3HlVgAOYgrK",
    "outputId": "7b248a51-288d-48bf-9cda-1830cd9b02f2"
   },
   "outputs": [
    {
     "name": "stdout",
     "output_type": "stream",
     "text": [
      "Porter Stemmer   : ['fli', 'fli', 'fli', 'flew', 'flown']\n",
      "Lancaster Stemmer: ['fly', 'fli', 'fly', 'flew', 'flown']\n"
     ]
    }
   ],
   "source": [
    "from nltk.stem import PorterStemmer, LancasterStemmer  #단어들의 어간(stem) 추출\n",
    "\n",
    "st1 = PorterStemmer()\n",
    "st2 =  LancasterStemmer()\n",
    "\n",
    "words = [\"fly\", \"flies\", \"flying\", \"flew\", \"flown\"]\n",
    "\n",
    "print(\"Porter Stemmer   :\", [st1.stem(w) for w in words])\n",
    "print(\"Lancaster Stemmer:\", [st2.stem(w) for w in words])"
   ]
  },
  {
   "cell_type": "markdown",
   "metadata": {
    "id": "-aQWi0iqYgrK",
    "school_cell_uuid": "3f4643c470f44da59f17c5d9604b091c"
   },
   "source": [
    "원형 복원(lemmatizing)은 같은 의미를 가지는 여러 단어를 사전형으로 통일하는 작업이다.   \n",
    "품사(part of speech)를 지정하는 경우 좀 더 정확한 원형을 찾을 수 있다."
   ]
  },
  {
   "cell_type": "code",
   "execution_count": 9,
   "metadata": {
    "colab": {
     "base_uri": "https://localhost:8080/"
    },
    "id": "B-Io52R7YgrK",
    "outputId": "aef8be98-16d5-4775-c62c-ce1d3b94cdc2",
    "school_cell_uuid": "944d15f623024c52a533819cb7072fe9"
   },
   "outputs": [
    {
     "data": {
      "text/plain": [
       "['fly', 'fly', 'fly', 'fly', 'fly']"
      ]
     },
     "execution_count": 9,
     "metadata": {},
     "output_type": "execute_result"
    }
   ],
   "source": [
    "from nltk.stem import WordNetLemmatizer  #동사의 표제어(Lemma)를 추출\n",
    "\n",
    "lm = WordNetLemmatizer()\n",
    "\n",
    "[lm.lemmatize(w, pos=\"v\") for w in words]  #입력된 단어 w를 동사로 인식하여 표제어를 추출"
   ]
  },
  {
   "cell_type": "markdown",
   "metadata": {
    "id": "nHYmdsRVYgrL",
    "school_cell_uuid": "6371fb991d394427a372b321894d88bb"
   },
   "source": [
    "## Attachment of POS"
   ]
  },
  {
   "cell_type": "markdown",
   "metadata": {
    "id": "CFqnSk4IYgrL",
    "school_cell_uuid": "4523460e575440178db54d697a55b42b"
   },
   "source": [
    "품사(POS, part-of-speech)는 낱말을 문법적인 기능이나 형태, 뜻에 따라 구분한 것이다.  \n",
    "품사의 구분은 언어마다 그리고 학자마다 다르다.   \n",
    "예를 들어 NLTK에서는 펜 트리뱅크 태그세트(Penn Treebank Tagset)라는 것을 이용한다.   \n",
    "다음은 펜 트리뱅크 태그세트에서 사용하는 품사의 예이다.\n",
    "\n",
    "* NNP: 단수 고유명사\n",
    "* VB: 동사\n",
    "* VBP: 동사 현재형\n",
    "* TO: to 전치사\n",
    "* NN: 명사(단수형 혹은 집합형)\n",
    "* DT: 관형사\n",
    "\n",
    "`nltk.help.upenn_tagset` 명령으로 자세한 설명을 볼 수 있다."
   ]
  },
  {
   "cell_type": "code",
   "execution_count": 10,
   "metadata": {
    "colab": {
     "base_uri": "https://localhost:8080/"
    },
    "id": "T8oJ4xEeYgrL",
    "outputId": "28edd007-4ebc-4451-f2d7-efad7807ed5d"
   },
   "outputs": [
    {
     "name": "stdout",
     "output_type": "stream",
     "text": [
      "VB: verb, base form\n",
      "    ask assemble assess assign assume atone attention avoid bake balkanize\n",
      "    bank begin behold believe bend benefit bevel beware bless boil bomb\n",
      "    boost brace break bring broil brush build ...\n"
     ]
    }
   ],
   "source": [
    "nltk.help.upenn_tagset(\"VB\") #\"VB\" 태그에 대한 설명과 예시 단어들이 출력"
   ]
  },
  {
   "cell_type": "code",
   "execution_count": 11,
   "metadata": {
    "colab": {
     "base_uri": "https://localhost:8080/"
    },
    "id": "FbJZ94n2klic",
    "outputId": "ccb97b2e-6b7f-48d5-edf2-cf25d5e0b56e"
   },
   "outputs": [
    {
     "name": "stdout",
     "output_type": "stream",
     "text": [
      "NNP: noun, proper, singular\n",
      "    Motown Venneboerger Czestochwa Ranzer Conchita Trumplane Christos\n",
      "    Oceanside Escobar Kreisler Sawyer Cougar Yvette Ervin ODI Darryl CTCA\n",
      "    Shannon A.K.C. Meltex Liverpool ...\n"
     ]
    }
   ],
   "source": [
    "nltk.help.upenn_tagset(\"NNP\")  #\"NNP\" 태그에 대한 설명과 예시 단어들이 출력"
   ]
  },
  {
   "cell_type": "markdown",
   "metadata": {
    "id": "BKGBuAEVYgrL"
   },
   "source": [
    "`pos_tag` 명령을 사용하면 단어 토큰에 품사를 부착하여 튜플로 출력한다.   \n",
    "다음 예문에서 refuse, permit이라는 같은 철자의 단어가 각각 동사와 명사로 다르게 품사 부착된 것을 볼 수 있다."
   ]
  },
  {
   "cell_type": "code",
   "execution_count": 12,
   "metadata": {
    "colab": {
     "base_uri": "https://localhost:8080/"
    },
    "id": "lzk5a8eVYgrL",
    "outputId": "8991a99b-0a8e-4b10-9a89-133ae98e030f",
    "school_cell_uuid": "2dbbbfe32abe4bdaaa8dc86a195aab2d",
    "scrolled": false
   },
   "outputs": [
    {
     "data": {
      "text/plain": [
       "[('Emma', 'NNP'),\n",
       " ('refused', 'VBD'),\n",
       " ('to', 'TO'),\n",
       " ('permit', 'VB'),\n",
       " ('us', 'PRP'),\n",
       " ('to', 'TO'),\n",
       " ('obtain', 'VB'),\n",
       " ('the', 'DT'),\n",
       " ('refuse', 'NN'),\n",
       " ('permit', 'NN')]"
      ]
     },
     "execution_count": 12,
     "metadata": {},
     "output_type": "execute_result"
    }
   ],
   "source": [
    "from nltk.tag import pos_tag  #문장 내의 각 단어에 해당하는 품사를 태깅\n",
    "sentence = \"Emma refused to permit us to obtain the refuse permit\"\n",
    "# Emma 고유명사(NNP) / refused 동사 과거형 시제(VBD) / to 전치사(TO) /\n",
    "# permit 동사 기본형(VB) / us 인칭대명사(PRP) / to 전치사(TO) /\n",
    "# obtain 동사 기본형(VB) / the 한정사(DT) / refuse 명사 단수형(NN) / permit 명사 단수형(NN)\n",
    "tagged_list = pos_tag(word_tokenize(sentence))\n",
    "tagged_list"
   ]
  },
  {
   "cell_type": "markdown",
   "metadata": {
    "id": "plKxnnvBYgrM"
   },
   "source": [
    "품사 태그 정보를 사용하면 명사인 토큰만 선택할 수 있다."
   ]
  },
  {
   "cell_type": "code",
   "execution_count": 13,
   "metadata": {
    "colab": {
     "base_uri": "https://localhost:8080/"
    },
    "id": "OsMxVodTYgrM",
    "outputId": "5413a3cb-4673-4d99-f1ae-c75f80b5428e"
   },
   "outputs": [
    {
     "data": {
      "text/plain": [
       "['refuse', 'permit']"
      ]
     },
     "execution_count": 13,
     "metadata": {},
     "output_type": "execute_result"
    }
   ],
   "source": [
    "nouns_list = [t[0] for t in tagged_list if t[1] == \"NN\"]\n",
    "nouns_list"
   ]
  },
  {
   "cell_type": "markdown",
   "metadata": {
    "id": "MkDppWn4YgrM"
   },
   "source": [
    "`untag` 명령을 사용하면 태그 튜플을 제거할 수 있다."
   ]
  },
  {
   "cell_type": "code",
   "execution_count": 14,
   "metadata": {
    "colab": {
     "base_uri": "https://localhost:8080/"
    },
    "id": "7Kg6eZ4YYgrM",
    "outputId": "87ff6c46-5ab1-4978-c60e-f8ccb7680303",
    "school_cell_uuid": "5f9b852e99c4416f808e8f3375c0e9fa"
   },
   "outputs": [
    {
     "data": {
      "text/plain": [
       "['Emma',\n",
       " 'refused',\n",
       " 'to',\n",
       " 'permit',\n",
       " 'us',\n",
       " 'to',\n",
       " 'obtain',\n",
       " 'the',\n",
       " 'refuse',\n",
       " 'permit']"
      ]
     },
     "execution_count": 14,
     "metadata": {},
     "output_type": "execute_result"
    }
   ],
   "source": [
    "from nltk.tag import untag\n",
    "untag(tagged_list)"
   ]
  },
  {
   "cell_type": "markdown",
   "metadata": {
    "id": "7s-44Ca_YgrM",
    "school_cell_uuid": "9971cb86c3e84622a7056011461cdd20"
   },
   "source": [
    "Scikit-Learn 등에서 자연어 분석을 할 때는 같은 토큰이라도 품사가 다르면 다른 토큰으로 처리해야 하는 경우가 많은데  \n",
    "이 때는 원래의 토큰과 품사를 붙여서 새로운 토큰 이름을 만들어 사용하면 철자가 같고 품사가 다른 단어를 구분할 수 있다.  "
   ]
  },
  {
   "cell_type": "code",
   "execution_count": 15,
   "metadata": {
    "colab": {
     "base_uri": "https://localhost:8080/",
     "height": 35
    },
    "id": "WqBIQ1GonSSk",
    "outputId": "dd7c44af-86dc-4701-acfc-8a1616eac730"
   },
   "outputs": [
    {
     "data": {
      "text/plain": [
       "'Emma refused to permit us to obtain the refuse permit'"
      ]
     },
     "execution_count": 15,
     "metadata": {},
     "output_type": "execute_result"
    }
   ],
   "source": [
    "sentence #sentence 내용 출력"
   ]
  },
  {
   "cell_type": "code",
   "execution_count": 16,
   "metadata": {
    "colab": {
     "base_uri": "https://localhost:8080/"
    },
    "id": "YvfXLfO5YgrN",
    "outputId": "0c0886d2-b762-4c15-9282-2e64287a446f",
    "school_cell_uuid": "ee0bd3f87dfc423f83c8be2a7f558198"
   },
   "outputs": [
    {
     "name": "stdout",
     "output_type": "stream",
     "text": [
      "Emma refused to permit us to obtain the refuse permit\n",
      "==================================================\n",
      "[('Emma', 'NNP'), ('refused', 'VBD'), ('to', 'TO'), ('permit', 'VB'), ('us', 'PRP'), ('to', 'TO'), ('obtain', 'VB'), ('the', 'DT'), ('refuse', 'NN'), ('permit', 'NN')]\n",
      "==================================================\n"
     ]
    },
    {
     "data": {
      "text/plain": [
       "['Emma/NNP',\n",
       " 'refused/VBD',\n",
       " 'to/TO',\n",
       " 'permit/VB',\n",
       " 'us/PRP',\n",
       " 'to/TO',\n",
       " 'obtain/VB',\n",
       " 'the/DT',\n",
       " 'refuse/NN',\n",
       " 'permit/NN']"
      ]
     },
     "execution_count": 16,
     "metadata": {},
     "output_type": "execute_result"
    }
   ],
   "source": [
    "print(sentence)\n",
    "print('='*50)\n",
    "print(tagged_list)\n",
    "print('='*50)\n",
    "\n",
    "def tokenizer():  #품사 출력 형태 변경\n",
    "    return [\"/\".join(p) for p in tagged_list]\n",
    "\n",
    "tokenizer()"
   ]
  },
  {
   "cell_type": "markdown",
   "metadata": {
    "id": "oNG-TwyfYgrN"
   },
   "source": [
    "## Text"
   ]
  },
  {
   "cell_type": "markdown",
   "metadata": {
    "id": "vcEBDwc-YgrN"
   },
   "source": [
    "NLTK의 `Text` 클래스는 문서 분석에 유용한 여러가지 메서드를 제공한다. 토큰열을 입력하여 생성한다."
   ]
  },
  {
   "cell_type": "code",
   "execution_count": 17,
   "metadata": {
    "colab": {
     "base_uri": "https://localhost:8080/"
    },
    "id": "zKVnFFhwnlu8",
    "outputId": "67021565-b8b3-4100-dc5b-8eba0c8c9977"
   },
   "outputs": [
    {
     "name": "stdout",
     "output_type": "stream",
     "text": [
      "887071\n"
     ]
    }
   ],
   "source": [
    "print(len(emma_raw)) #887,071 글자 수로 구성된 엠마 원본"
   ]
  },
  {
   "cell_type": "code",
   "execution_count": 18,
   "metadata": {
    "id": "DESRCOf7YgrN"
   },
   "outputs": [],
   "source": [
    "from nltk import Text\n",
    "\n",
    "text = Text(retokenize.tokenize(emma_raw))  # emma_raw 텍스트를 토큰화"
   ]
  },
  {
   "cell_type": "code",
   "execution_count": 19,
   "metadata": {
    "colab": {
     "base_uri": "https://localhost:8080/"
    },
    "id": "G8q22tuen89m",
    "outputId": "5475accb-2404-4560-905c-802a49cde721"
   },
   "outputs": [
    {
     "name": "stdout",
     "output_type": "stream",
     "text": [
      "<Text: Emma by Jane Austen 1816 VOLUME I CHAPTER...>\n",
      "<class 'nltk.text.Text'>\n",
      "161983\n"
     ]
    }
   ],
   "source": [
    "print(text)\n",
    "print(type(text))\n",
    "print(len(text))"
   ]
  },
  {
   "cell_type": "markdown",
   "metadata": {
    "id": "ZXB-mnGVYgrN"
   },
   "source": [
    "`plot` 메소드를 사용하면 각 단어(토큰)의 사용 빈도를 그래프로 그려준다."
   ]
  },
  {
   "cell_type": "code",
   "execution_count": 20,
   "metadata": {
    "colab": {
     "base_uri": "https://localhost:8080/",
     "height": 470
    },
    "id": "AxDjp9ngYgrN",
    "outputId": "90ae5125-8b65-46d1-c469-31098b8ea0cd"
   },
   "outputs": [
    {
     "data": {
      "image/png": "[encoded data removed]",
      "text/plain": [
       "<Figure size 640x480 with 1 Axes>"
      ]
     },
     "metadata": {},
     "output_type": "display_data"
    }
   ],
   "source": [
    "import matplotlib.pyplot as plt\n",
    "text.plot(20)\n",
    "plt.show()"
   ]
  },
  {
   "cell_type": "markdown",
   "metadata": {
    "id": "y0ojLyxDYgrR"
   },
   "source": [
    "`dispersion_plot` 메서드는 단어가 사용된 위치를 시각화한다.   \n",
    "소설 엠마의 각 등장인물에 대해 적용하면 다음과 같은 결과를 얻는다."
   ]
  },
  {
   "cell_type": "code",
   "execution_count": 21,
   "metadata": {
    "colab": {
     "base_uri": "https://localhost:8080/",
     "height": 472
    },
    "id": "Dn-hn2IVYgrR",
    "outputId": "07fdf0f7-9613-4e39-f3a4-14bd4d3a5fdc"
   },
   "outputs": [
    {
     "data": {
      "image/png": "[encoded data removed]",
      "text/plain": [
       "<Figure size 640x480 with 1 Axes>"
      ]
     },
     "metadata": {},
     "output_type": "display_data"
    }
   ],
   "source": [
    "text.dispersion_plot([\"Emma\", \"Knightley\", \"Frank\", \"Jane\", \"Harriet\", \"Robert\"])  #주어진 단어들이 텍스트 내에서 어떻게 분포되어 있는지 시각화\n",
    "#Colab의 경우 그래프가 역으로 출력되는 문제 발생, JupyterNotebook 사용 권장!!"
   ]
  },
  {
   "cell_type": "markdown",
   "metadata": {
    "id": "BTllh84SYgrR"
   },
   "source": [
    "`concordance` 메서드로 단어가 사용된 위치를 직접 표시하면 문맥(context)이 어떤지 볼 수 있다.   \n",
    "여기에서 문맥은 해당 단어의 앞과 뒤에 사용된 단어를 뜻한다."
   ]
  },
  {
   "cell_type": "code",
   "execution_count": 22,
   "metadata": {
    "colab": {
     "base_uri": "https://localhost:8080/"
    },
    "id": "eokJ8m_kYgrR",
    "outputId": "e9b785fc-99e6-430e-ff7b-bf4fac65fbe2"
   },
   "outputs": [
    {
     "name": "stdout",
     "output_type": "stream",
     "text": [
      "Displaying 25 of 865 matches:\n",
      " Emma by Jane Austen 1816 VOLUME I CHAPTER\n",
      " Jane Austen 1816 VOLUME I CHAPTER I Emma Woodhouse handsome clever and rich w\n",
      "f both daughters but particularly of Emma Between _them_ it was more the intim\n",
      "nd friend very mutually attached and Emma doing just what she liked highly est\n",
      " by her own The real evils indeed of Emma s situation were the power of having\n",
      "ding day of this beloved friend that Emma first sat in mournful thought of any\n",
      "going only half a mile from them but Emma was aware that great must be the dif\n",
      "a day It was a melancholy change and Emma could not but sigh over it and wish \n",
      "ll the rest of her life at Hartfield Emma smiled and chatted as cheerfully as \n",
      "l be able to tell her how we all are Emma spared no exertions to maintain this\n",
      "or I have a great regard for you and Emma but when it comes to the question of\n",
      "a fanciful troublesome creature said Emma playfully That is what you have in y\n",
      "e few people who could see faults in Emma Woodhouse and the only one who ever \n",
      "is was not particularly agreeable to Emma herself she knew it would be so much\n",
      " being thought perfect by every body Emma knows I never flatter her said Mr Kn\n",
      " that she must be a gainer Well said Emma willing to let it pass you want to h\n",
      " were sure of meeting every day Dear Emma bears every thing so well said her f\n",
      "l_ miss her more than she thinks for Emma turned away her head divided between\n",
      "ars and smiles It is impossible that Emma should not miss such a companion sai\n",
      "rgotten one matter of joy to me said Emma and a very considerable one that I m\n",
      "lf than good to them by interference Emma never thinks of herself if she can d\n",
      "ch better thing Invite him to dinner Emma and help him to the best of the fish\n",
      " and could not think without pain of Emma s losing a single pleasure or suffer\n",
      "nt of her companionableness but dear Emma was of no feeble character she was m\n",
      "ent was so just and so apparent that Emma well as she knew her father was some\n"
     ]
    }
   ],
   "source": [
    "text.concordance(\"Emma\")  #텍스트 내에서 특정 단어 Emma의 출현 위치와 그 주변 내용을 출력"
   ]
  },
  {
   "cell_type": "markdown",
   "metadata": {
    "id": "dvRRd-7RYgrS"
   },
   "source": [
    "## FreqDist"
   ]
  },
  {
   "cell_type": "markdown",
   "metadata": {
    "id": "w5CxJxVrYgrS"
   },
   "source": [
    "`FreqDist` 클래스는 문서에 사용된 단어(토큰)의 사용빈도 정보를 담는 클래스이다.  \n",
    "`Text` 클래스의 `vocab` 메서드로 추출할 수 있다."
   ]
  },
  {
   "cell_type": "code",
   "execution_count": 23,
   "metadata": {
    "colab": {
     "base_uri": "https://localhost:8080/"
    },
    "id": "a0HrIVW1YgrS",
    "outputId": "d4394f82-3a16-4caf-b5f0-201d441282a2",
    "scrolled": true
   },
   "outputs": [
    {
     "data": {
      "text/plain": [
       "nltk.probability.FreqDist"
      ]
     },
     "execution_count": 23,
     "metadata": {},
     "output_type": "execute_result"
    }
   ],
   "source": [
    "fd = text.vocab()\n",
    "type(fd)"
   ]
  },
  {
   "cell_type": "code",
   "execution_count": 24,
   "metadata": {
    "colab": {
     "base_uri": "https://localhost:8080/"
    },
    "id": "FktbNf91zmlv",
    "outputId": "a01be983-c798-4177-a8fd-f0733843689b"
   },
   "outputs": [
    {
     "data": {
      "text/plain": [
       "FreqDist({'to': 5183, 'the': 4844, 'and': 4672, 'of': 4279, 'I': 3178, 'a': 3004, 'was': 2385, 'her': 2381, 'it': 2128, 'in': 2118, ...})"
      ]
     },
     "execution_count": 24,
     "metadata": {},
     "output_type": "execute_result"
    }
   ],
   "source": [
    "fd"
   ]
  },
  {
   "cell_type": "markdown",
   "metadata": {
    "id": "wwbi61zZYgrT"
   },
   "source": [
    "또는 다음처럼 토큰 리스트를 넣어서 직업 만들 수도 있다.  \n",
    "다음 코드에서는 Emma 말뭉치에서 사람의 이름만 모아서 `FreqDist` 클래스 객체를 만들었다.   \n",
    "품사 태그에서 `NNP`(고유대명사)이면서 필요없는 단어(stop words)는 제거하였다."
   ]
  },
  {
   "cell_type": "code",
   "execution_count": 25,
   "metadata": {
    "id": "6Pn5nJqjYgrT"
   },
   "outputs": [],
   "source": [
    "from nltk import FreqDist\n",
    "\n",
    "stopwords = [\"Mr.\", \"Mrs.\", \"Miss\", \"Mr\", \"Mrs\", \"Dear\"]\n",
    "emma_tokens = pos_tag(retokenize.tokenize(emma_raw))\n",
    "names_list = [t[0] for t in emma_tokens if t[1] == \"NNP\" and t[0] not in stopwords]\n",
    "fd_names = FreqDist(names_list)"
   ]
  },
  {
   "cell_type": "code",
   "execution_count": 26,
   "metadata": {
    "colab": {
     "base_uri": "https://localhost:8080/"
    },
    "id": "3iw4tREDz4Qx",
    "outputId": "a1dac016-47e5-4ae3-87a9-586a0d78d3fa"
   },
   "outputs": [
    {
     "data": {
      "text/plain": [
       "FreqDist({'Emma': 830, 'Harriet': 491, 'Weston': 439, 'Knightley': 389, 'Elton': 385, 'Woodhouse': 304, 'Jane': 299, 'Fairfax': 241, 'Churchill': 223, 'Frank': 208, ...})"
      ]
     },
     "execution_count": 26,
     "metadata": {},
     "output_type": "execute_result"
    }
   ],
   "source": [
    "fd_names"
   ]
  },
  {
   "cell_type": "markdown",
   "metadata": {
    "id": "AysPnlPPYgrT"
   },
   "source": [
    "`FreqDist` 클래스는 단어를 키(key), 출현빈도를 값(value)으로 가지는 사전 자료형과 유사하다.   \n",
    "다음 코드는 전체 단어의 수, \"Emma\"라는 단어의 출현 횟수, 확률을 각각 계산한다."
   ]
  },
  {
   "cell_type": "code",
   "execution_count": 27,
   "metadata": {
    "colab": {
     "base_uri": "https://localhost:8080/"
    },
    "id": "8mq3YklXYgrT",
    "outputId": "7297b3fc-346c-47af-9b93-e26127a13a94"
   },
   "outputs": [
    {
     "data": {
      "text/plain": [
       "(7863, 830, 0.10555767518758744)"
      ]
     },
     "execution_count": 27,
     "metadata": {},
     "output_type": "execute_result"
    }
   ],
   "source": [
    "fd_names.N(), fd_names[\"Emma\"], fd_names.freq(\"Emma\")\n",
    "#전체 단어의 수, \"Emma\"라는 단어의 출현 횟수, \"Emma\"라는 단어의 출현 확률"
   ]
  },
  {
   "cell_type": "markdown",
   "metadata": {
    "id": "BszuYpvXYgrT"
   },
   "source": [
    "`most_common` 메서드를 사용하면 가장 출현 횟수가 높은 단어를 찾는다."
   ]
  },
  {
   "cell_type": "code",
   "execution_count": 28,
   "metadata": {
    "colab": {
     "base_uri": "https://localhost:8080/"
    },
    "id": "i0BDqJ0uYgrU",
    "outputId": "89e02207-daa0-4289-9a51-25f3413eed0f"
   },
   "outputs": [
    {
     "data": {
      "text/plain": [
       "[('Emma', 830),\n",
       " ('Harriet', 491),\n",
       " ('Weston', 439),\n",
       " ('Knightley', 389),\n",
       " ('Elton', 385),\n",
       " ('Woodhouse', 304),\n",
       " ('Jane', 299),\n",
       " ('Fairfax', 241),\n",
       " ('Churchill', 223),\n",
       " ('Frank', 208)]"
      ]
     },
     "execution_count": 28,
     "metadata": {},
     "output_type": "execute_result"
    }
   ],
   "source": [
    "fd_names.most_common(10)"
   ]
  },
  {
   "cell_type": "markdown",
   "metadata": {
    "id": "AxGEpLvOYgrU"
   },
   "source": [
    "## WordCloud"
   ]
  },
  {
   "cell_type": "markdown",
   "metadata": {
    "id": "ASiAyAawYgrU"
   },
   "source": [
    "wordcloud 패키지를 사용하면 단어의 사용 빈도수에 따라 워드클라우드(Word Cloud) 시각화를 할 수 있다."
   ]
  },
  {
   "cell_type": "code",
   "execution_count": 29,
   "metadata": {
    "colab": {
     "base_uri": "https://localhost:8080/"
    },
    "id": "oobrPmxr0tHo",
    "outputId": "3c915e9c-28ce-49f1-992f-34cad902b60c"
   },
   "outputs": [
    {
     "data": {
      "text/plain": [
       "{'Emma': 830,\n",
       " 'Harriet': 491,\n",
       " 'Weston': 439,\n",
       " 'Knightley': 389,\n",
       " 'Elton': 385,\n",
       " 'Woodhouse': 304,\n",
       " 'Jane': 299,\n",
       " 'Fairfax': 241,\n",
       " 'Churchill': 223,\n",
       " 'Frank': 208,\n",
       " 'Hartfield': 160,\n",
       " 'Oh': 156,\n",
       " 'Bates': 141,\n",
       " 'Highbury': 123,\n",
       " 'John': 90,\n",
       " 'Randalls': 89,\n",
       " 'Smith': 89,\n",
       " 'Martin': 85,\n",
       " 'No': 79,\n",
       " 'Perry': 79}"
      ]
     },
     "execution_count": 29,
     "metadata": {},
     "output_type": "execute_result"
    }
   ],
   "source": [
    "mc_fd_names = dict(fd_names.most_common(20))  #딕셔너리 타입으로 변경\n",
    "mc_fd_names"
   ]
  },
  {
   "cell_type": "code",
   "execution_count": 30,
   "metadata": {
    "colab": {
     "base_uri": "https://localhost:8080/",
     "height": 334
    },
    "id": "BRG-d1rcYgrU",
    "outputId": "e628d92a-6895-4945-a47a-0899208c5da9",
    "scrolled": false
   },
   "outputs": [
    {
     "data": {
      "image/png": "[encoded data removed]",
      "text/plain": [
       "<Figure size 640x480 with 1 Axes>"
      ]
     },
     "metadata": {},
     "output_type": "display_data"
    }
   ],
   "source": [
    "from wordcloud import WordCloud\n",
    "\n",
    "wc = WordCloud(width=1000, height=600, background_color=\"white\", random_state=0)\n",
    "#plt.imshow(wc.generate_from_frequencies(fd_names)) #전체 출력\n",
    "plt.imshow(wc.generate_from_frequencies(mc_fd_names )) #10개 출력\n",
    "plt.axis(\"off\")\n",
    "plt.show()"
   ]
  },
  {
   "cell_type": "code",
   "execution_count": null,
   "metadata": {
    "id": "5R2-vvlfURk1"
   },
   "outputs": [],
   "source": []
  }
 ],
 "metadata": {
  "colab": {
   "provenance": []
  },
  "kernelspec": {
   "display_name": "Python 3 (ipykernel)",
   "language": "python",
   "name": "python3"
  },
  "language_info": {
   "codemirror_mode": {
    "name": "ipython",
    "version": 3
   },
   "file_extension": ".py",
   "mimetype": "text/x-python",
   "name": "python",
   "nbconvert_exporter": "python",
   "pygments_lexer": "ipython3",
   "version": "3.9.13"
  },
  "toc": {
   "base_numbering": 1,
   "nav_menu": {},
   "number_sections": false,
   "sideBar": true,
   "skip_h1_title": false,
   "title_cell": "Table of Contents",
   "title_sidebar": "Contents",
   "toc_cell": false,
   "toc_position": {},
   "toc_section_display": true,
   "toc_window_display": false
  }
 },
 "nbformat": 4,
 "nbformat_minor": 1
}
